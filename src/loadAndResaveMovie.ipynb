{
 "cells": [
  {
   "cell_type": "code",
   "execution_count": 45,
   "id": "c3481bbd",
   "metadata": {},
   "outputs": [],
   "source": [
    "import numpy as np\n",
    "import cv2\n",
    "import napari\n",
    "import time\n",
    "import os\n",
    "\n",
    "# package for 3d visualization\n",
    "from itkwidgets import view                              \n",
    "from aicssegmentation.core.visual import seg_fluo_side_by_side,  single_fluorescent_view, segmentation_quick_view\n",
    "import matplotlib.pyplot as plt\n",
    "plt.rcParams[\"figure.figsize\"] = [16, 12]\n",
    "\n",
    "# package for io \n",
    "from aicsimageio import AICSImage\n",
    "from aicsimageio.writers import OmeTiffWriter\n",
    "from aicsimageio.readers.bioformats_reader import BioformatsReader\n",
    "from aicsimageio.readers.czi_reader import CziReader\n",
    "\n",
    "# function for core algorithm\n",
    "from aicssegmentation.core.seg_dot import dot_3d, dot_3d_wrapper \n",
    "from aicssegmentation.core.pre_processing_utils import intensity_normalization, image_smoothing_gaussian_slice_by_slice, image_smoothing_gaussian_3d, edge_preserving_smoothing_3d\n",
    "from skimage.morphology import remove_small_objects, dilation, erosion, ball     # function for post-processing (size filter)\n",
    "from skimage.segmentation import watershed, clear_border\n",
    "from skimage.feature import peak_local_max\n",
    "from skimage.measure import label\n",
    "from skimage.io import imsave\n",
    "from scipy.ndimage import distance_transform_edt, binary_fill_holes"
   ]
  },
  {
   "cell_type": "code",
   "execution_count": 50,
   "id": "24cd2ea1",
   "metadata": {},
   "outputs": [
    {
     "name": "stdout",
     "output_type": "stream",
     "text": [
      "[1.5, 0.59188755580357, 0.59188755580357]\n",
      "(247, 1, 121, 1000, 1000)\n"
     ]
    }
   ],
   "source": [
    "## Load the data\n",
    "\n",
    "#####################\n",
    "# User inputs the file path\n",
    "filePath = \"//research.files.med.Harvard.edu/SysBio/MEGASON LAB/People/RikkiGarner/20220922_h2bRRvT_12hpf_LSM980/20220922_h2bRRvT_11hpf_20X-03-Airyscan Processing-01.czi\"\n",
    "#####################\n",
    "\n",
    "# Load the image using the AICS importer\n",
    "img_from_native = AICSImage(filePath, reader=CziReader)\n",
    "\n",
    "# Load the scale of each axis\n",
    "micronsPerPixel = [img_from_native.physical_pixel_sizes.Z, img_from_native.physical_pixel_sizes.X , img_from_native.physical_pixel_sizes.Y]\n",
    "print(micronsPerPixel)\n",
    "\n",
    "# Load in the first image\n",
    "raw_img = img_from_native.get_image_dask_data(\"TCZYX\")\n",
    "\n",
    "# Print the size of the object in the format (#timepoints, #channels, #pixelsZ, #pixelsY, #pixelsX)\n",
    "print(raw_img.shape)\n",
    "\n",
    "## Visualize the raw images\n",
    "\n",
    "# Remove the old image if it exists\n",
    "if 'viewer' in locals():\n",
    "    try:\n",
    "        viewer.close()\n",
    "    except:\n",
    "        del viewer\n",
    "        \n",
    "\n",
    "viewer.scale_bar\n",
    "viewer.axes.visible = True\n",
    "viewer.axes.colored = False\n",
    "viewer.scale_bar.visible = True\n",
    "viewer.scale_bar.unit = \"um\"  \n",
    "viewer.scale_bar.ticks = False\n",
    "\n",
    "\n",
    "\n"
   ]
  },
  {
   "cell_type": "code",
   "execution_count": 40,
   "id": "3f67799a",
   "metadata": {},
   "outputs": [
    {
     "name": "stdout",
     "output_type": "stream",
     "text": [
      "(2, 60, 500, 500)\n"
     ]
    }
   ],
   "source": [
    "\n",
    "## Save the 3D volume rendering as a movie\n",
    "\n",
    "# Make a folder to save the movie\n",
    "# Create the folder name\n",
    "folderName = filePath.rsplit('/', 1)[-1].rsplit('.', 1)[0]+'_Volume'\n",
    "# Add this folder to the existing path of the data file\n",
    "folderPath = filePath.rsplit('/', 1)[0]+'/'+folderName+'/'\n",
    "# Make the directory, if it doesn't exist\n",
    "if ~os.path.isdir(folderPath):\n",
    "    os.mkdir(folderPath)\n",
    "# Make the file path prefic\n",
    "filePathPrefix = folderPath+folderName\n",
    "\n",
    "# Set the timepoint to zero\n",
    "dimensionState = viewer.dims.current_step\n",
    "dimensionState = list(dimensionState)\n",
    "dimensionState[0] = 0\n",
    "dimensionState = tuple(dimensionState)\n",
    "viewer.dims.current_step = dimensionState\n",
    "\n",
    "# Update the filepath\n",
    "filePath = filePathPrefix+'_'+str(dimensionState[0])+'.tif'\n",
    "\n",
    "# If the file already exists, delete it\n",
    "if os.path.isfile(filePath):\n",
    "    os.remove(filePath)    \n",
    "\n",
    "# Take a screenshot\n",
    "screenshot = viewer.screenshot()\n",
    "\n",
    "# Save the screenshot\n",
    "imsave(filePath, screenshot)\n",
    "\n",
    "for tp in range(0, raw_img.shape[0]+1):\n",
    "    # Update the time step\n",
    "    dimensionState = viewer.dims.current_step\n",
    "    dimensionState = list(dimensionState)\n",
    "    dimensionState[0] = dimensionState[0] + 1\n",
    "    dimensionState = tuple(dimensionState)\n",
    "    viewer.dims.current_step = dimensionState\n",
    "    \n",
    "    # Update the filepath\n",
    "    filePath = filePathPrefix+'_'+str(dimensionState[0])+'.tif'\n",
    "    \n",
    "    if os.path.isfile(filePath):\n",
    "        os.remove(filePath)    \n",
    "\n",
    "    # Take a screenshot\n",
    "    screenshot = viewer.screenshot()\n",
    "\n",
    "    # Save the screenshot\n",
    "    imsave(filePath, screenshot)"
   ]
  }
 ],
 "metadata": {
  "kernelspec": {
   "display_name": "Python 3.8.13 ('napari')",
   "language": "python",
   "name": "python3"
  },
  "language_info": {
   "codemirror_mode": {
    "name": "ipython",
    "version": 3
   },
   "file_extension": ".py",
   "mimetype": "text/x-python",
   "name": "python",
   "nbconvert_exporter": "python",
   "pygments_lexer": "ipython3",
   "version": "3.8.13"
  },
  "vscode": {
   "interpreter": {
    "hash": "7f06bfdfbb1dde087a1f21682be8f3f7bad2221994835187972024ba7ebecb56"
   }
  }
 },
 "nbformat": 4,
 "nbformat_minor": 5
}
