{
 "cells": [
  {
   "cell_type": "code",
   "execution_count": 1,
   "id": "56b0061f",
   "metadata": {},
   "outputs": [],
   "source": [
    "#requirements \n",
    "\n",
    "import napari\n",
    "from napari_time_slicer import time_slicer"
   ]
  },
  {
   "cell_type": "code",
   "execution_count": null,
   "id": "bed9623a",
   "metadata": {},
   "outputs": [],
   "source": []
  }
 ],
 "metadata": {
  "kernelspec": {
   "display_name": "Python 3 (ipykernel)",
   "language": "python",
   "name": "python3"
  },
  "language_info": {
   "codemirror_mode": {
    "name": "ipython",
    "version": 3
   },
   "file_extension": ".py",
   "mimetype": "text/x-python",
   "name": "python",
   "nbconvert_exporter": "python",
   "pygments_lexer": "ipython3",
   "version": "3.8.13"
  }
 },
 "nbformat": 4,
 "nbformat_minor": 5
}
